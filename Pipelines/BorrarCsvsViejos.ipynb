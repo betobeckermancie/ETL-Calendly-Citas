{
 "cells": [
  {
   "cell_type": "code",
   "execution_count": 0,
   "metadata": {
    "application/vnd.databricks.v1+cell": {
     "cellMetadata": {
      "byteLimit": 2048000,
      "rowLimit": 10000
     },
     "inputWidgets": {},
     "nuid": "d5fc50be-449c-41fd-8beb-9738d55cb5af",
     "showTitle": false,
     "tableResultSettingsMap": {},
     "title": ""
    }
   },
   "outputs": [
    {
     "output_type": "stream",
     "name": "stdout",
     "output_type": "stream",
     "text": [
      "Archivo eliminado con éxito.\n"
     ]
    },
    {
     "output_type": "execute_result",
     "data": {
      "text/plain": [
       "[FileInfo(path='dbfs:/mnt/GoogleSheets/Credenciales/', name='Credenciales/', size=0, modificationTime=1732034839000)]"
      ]
     },
     "execution_count": 1,
     "metadata": {},
     "output_type": "execute_result"
    }
   ],
   "source": [
    "import os\n",
    "file_path = \"dbfs:/mnt/GoogleSheets/CSV's_Descargados/\"\n",
    "\n",
    "try:\n",
    "    dbutils.fs.rm(file_path, True)\n",
    "    print(\"Archivo eliminado con éxito.\")\n",
    "except Exception as e:\n",
    "    print(f\"Error al intentar eliminar el archivo: {e}\")\n",
    "\n",
    "dbutils.fs.ls(\"mnt/GoogleSheets/\")"
   ]
  }
 ],
 "metadata": {
  "application/vnd.databricks.v1+notebook": {
   "dashboards": [],
   "environmentMetadata": {
    "base_environment": "",
    "client": "1"
   },
   "language": "python",
   "notebookMetadata": {
    "pythonIndentUnit": 2
   },
   "notebookName": "BorrarCsvsViejos",
   "widgets": {}
  },
  "language_info": {
   "name": "python"
  }
 },
 "nbformat": 4,
 "nbformat_minor": 0
}
